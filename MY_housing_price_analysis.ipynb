{
 "cells": [
  {
   "cell_type": "markdown",
   "metadata": {},
   "source": [
    "## Data Loading & Exploration\n",
    "### Load Data:\n",
    "- Load the dataset into PySpark from a CSV or Parquet file.\n",
    "- Inspect the schema and ensure column types are correctly inferred.\n",
    "### Basic Statistics:\n",
    "- Calculate the average Median_Price and Median_PSF across all properties.\n",
    "- Identify the state with the highest and lowest median property prices.\n",
    "### Filter & Grouping:\n",
    "- Filter properties with Median_Price > 1 million MYR and count them by Type.\n",
    "- Group data by State and calculate:\n",
    "    - Total Transactions.\n",
    "    - Average Median_PSF.\n",
    "### Data Transformation:\n",
    "- Create a new column, Price_to_PSF_Ratio, as Median_Price / Median_PSF.\n",
    "- Categorize properties into price ranges (e.g., <500k, 500k-1M, >1M) and count them.\n",
    "### Insights by Property Type:\n",
    "- Compare the average Median_Price for Freehold vs. Leasehold properties by Type.\n",
    "- Find the Township with the highest number of Transactions for condominiums.\n",
    "### Area Insights:\n",
    "- Determine the Area with the highest Median_PSF.\n",
    "- Identify the most popular Type of property in each Area.\n",
    "- Rank Townships by Median Price within Each Area"
   ]
  },
  {
   "cell_type": "code",
   "execution_count": 1,
   "metadata": {},
   "outputs": [],
   "source": [
    "from pyspark.sql import SparkSession\n",
    "from pyspark.sql.functions import col\n",
    "from pyspark.sql import functions as F\n",
    "from pyspark.sql.types import *\n",
    "pricing_schema = StructType([\n",
    "    StructField(\"Township\", StringType(), True),\n",
    "    StructField(\"Area\", StringType(), True),\n",
    "    StructField(\"State\", StringType(), True),\n",
    "    StructField(\"Tenure\", StringType(), True),\n",
    "    StructField(\"Type\", StringType(), True),\n",
    "    StructField(\"Median_Price\", DoubleType(), True),\n",
    "    StructField(\"Median_PSF\", DoubleType(), True),\n",
    "    StructField(\"Transactions\", IntegerType(), True)\n",
    "])\n",
    "# columns Township,Area,State,Tenure,Type,Median_Price,Median_PSF,Transactions\n",
    "spark = SparkSession.builder.appName(\"MY-housing-price\").getOrCreate()\n",
    "df = spark.read.csv(\"malaysia_house_price_data_2025.csv\", header=True, schema=pricing_schema)"
   ]
  },
  {
   "cell_type": "code",
   "execution_count": 2,
   "metadata": {},
   "outputs": [
    {
     "name": "stdout",
     "output_type": "stream",
     "text": [
      "+--------------------+-------------+------+--------+--------------------+------------+----------+------------+\n",
      "|            Township|         Area| State|  Tenure|                Type|Median_Price|Median_PSF|Transactions|\n",
      "+--------------------+-------------+------+--------+--------------------+------------+----------+------------+\n",
      "| SCIENTEX SUNGAI DUA|Tasek Gelugor|Penang|Freehold|       Terrace House|    331800.0|     304.0|         593|\n",
      "|        BANDAR PUTRA|        Kulai| Johor|Freehold|Cluster House, Te...|    590900.0|     322.0|         519|\n",
      "|TAMAN LAGENDA TRO...|  Chenderiang| Perak|Freehold|       Terrace House|    229954.0|     130.0|         414|\n",
      "+--------------------+-------------+------+--------+--------------------+------------+----------+------------+\n",
      "only showing top 3 rows\n",
      "\n"
     ]
    }
   ],
   "source": [
    "df.show(3)"
   ]
  },
  {
   "cell_type": "markdown",
   "metadata": {},
   "source": [
    "- Calculate the average `Median_Price` and `Median_PSF` across all properties."
   ]
  },
  {
   "cell_type": "code",
   "execution_count": 9,
   "metadata": {},
   "outputs": [
    {
     "name": "stdout",
     "output_type": "stream",
     "text": [
      "+--------------+----------------+\n",
      "|avg_median_psf|avg_median_price|\n",
      "+--------------+----------------+\n",
      "|      328.8625|     490685.4105|\n",
      "+--------------+----------------+\n",
      "\n"
     ]
    }
   ],
   "source": [
    "avg_prices = df.select('Median_Price', 'Median_PSF').agg({\n",
    "    \"Median_Price\": \"avg\",\n",
    "    'Median_PSF': \"avg\"\n",
    "}).withColumnRenamed(\"avg(Median_Price)\", \"avg_median_price\") \\\n",
    ".withColumnRenamed(\"avg(Median_PSF)\", \"avg_median_psf\")\n",
    "avg_prices.show()"
   ]
  },
  {
   "cell_type": "markdown",
   "metadata": {},
   "source": [
    "- Identify the state with the highest and lowest median property prices."
   ]
  },
  {
   "cell_type": "code",
   "execution_count": 29,
   "metadata": {},
   "outputs": [
    {
     "name": "stdout",
     "output_type": "stream",
     "text": [
      "+------------+--------------------+\n",
      "|       State|Average_Median_Price|\n",
      "+------------+--------------------+\n",
      "|Kuala Lumpur|           853342.09|\n",
      "+------------+--------------------+\n",
      "\n",
      "+------+--------------------+\n",
      "| State|Average_Median_Price|\n",
      "+------+--------------------+\n",
      "|Labuan|            130000.0|\n",
      "+------+--------------------+\n",
      "\n"
     ]
    }
   ],
   "source": [
    "group_by_states = df.select(\"State\", \"Median_Price\") \\\n",
    ".groupBy(\"State\").agg(F.round(F.avg(\"Median_Price\"), 2).alias(\"Average_Median_Price\"))\n",
    "group_by_states.orderBy(\"Average_Median_Price\", ascending=False).limit(1).show()\n",
    "group_by_states.orderBy(\"Average_Median_Price\", ascending=True).limit(1).show()"
   ]
  },
  {
   "cell_type": "markdown",
   "metadata": {},
   "source": [
    "Filter properties with Median_Price > 1 million MYR and count them by Type."
   ]
  },
  {
   "cell_type": "code",
   "execution_count": 3,
   "metadata": {},
   "outputs": [
    {
     "name": "stdout",
     "output_type": "stream",
     "text": [
      "+--------------------+-------------------+\n",
      "|                Type|count(Median_Price)|\n",
      "+--------------------+-------------------+\n",
      "|Town House, Semi ...|                  1|\n",
      "|Bungalow, Terrace...|                  1|\n",
      "|Terrace House, Bu...|                  4|\n",
      "|   Service Residence|                 14|\n",
      "|Terrace House, Bu...|                  1|\n",
      "|Semi D, Cluster H...|                  1|\n",
      "|Terrace House, Cl...|                  1|\n",
      "|Cluster House, Te...|                  1|\n",
      "|       Terrace House|                 35|\n",
      "|Bungalow, Terrace...|                  9|\n",
      "|Cluster House, Se...|                  2|\n",
      "|Semi D, Bungalow,...|                  1|\n",
      "|         Condominium|                 22|\n",
      "|              Semi D|                  6|\n",
      "|Town House, Terra...|                  1|\n",
      "|Terrace House, Se...|                  2|\n",
      "|    Bungalow, Semi D|                  3|\n",
      "|       Cluster House|                  5|\n",
      "|    Semi D, Bungalow|                  3|\n",
      "|Town House, Bunga...|                  1|\n",
      "+--------------------+-------------------+\n",
      "only showing top 20 rows\n",
      "\n"
     ]
    }
   ],
   "source": [
    "count_by_type = df.select('Median_Price', 'Type').filter(df.Median_Price > 1000000).groupBy('Type').agg(F.count('Median_Price'))\n",
    "count_by_type.show()"
   ]
  },
  {
   "cell_type": "markdown",
   "metadata": {},
   "source": [
    "Group data by State and calculate:\n",
    "- Total Transactions.\n",
    "- Average Median_PSF."
   ]
  },
  {
   "cell_type": "code",
   "execution_count": 19,
   "metadata": {},
   "outputs": [
    {
     "name": "stdout",
     "output_type": "stream",
     "text": [
      "+---------------+------------------+\n",
      "|          State|total_transactions|\n",
      "+---------------+------------------+\n",
      "|       Selangor|              1483|\n",
      "|Negeri Sembilan|                10|\n",
      "|   Kuala Lumpur|               777|\n",
      "|          Johor|               795|\n",
      "|         Penang|               188|\n",
      "|          Sabah|                16|\n",
      "|      Putrajaya|                18|\n",
      "+---------------+------------------+\n",
      "\n",
      "+---------------+------------------+\n",
      "|          State|Average_Median_PSF|\n",
      "+---------------+------------------+\n",
      "|       Selangor|            602.32|\n",
      "|Negeri Sembilan|             335.0|\n",
      "|   Kuala Lumpur|           1033.22|\n",
      "|          Johor|            564.13|\n",
      "|         Penang|            778.17|\n",
      "|          Sabah|             537.0|\n",
      "|      Putrajaya|             569.0|\n",
      "+---------------+------------------+\n",
      "\n"
     ]
    }
   ],
   "source": [
    "total_transactionns = df.select('State', 'Transactions').filter(df.Median_Price > 1000000).groupBy('State').agg(F.sum('Transactions').alias('total_transactions'))\n",
    "total_transactionns.show()\n",
    "average_psf = df.select('State', 'Median_PSF').filter(df.Median_Price > 1000000).groupBy('State').agg(F.round(F.avg('Median_PSF'), 2).alias('Average_Median_PSF'))\n",
    "average_psf.show()"
   ]
  },
  {
   "cell_type": "markdown",
   "metadata": {},
   "source": [
    "Create a new column, Price_to_PSF_Ratio, as Median_Price / Median_PSF.\n",
    "Categorize properties into price ranges (e.g., <500k, 500k-1M, >1M) and count them."
   ]
  },
  {
   "cell_type": "code",
   "execution_count": 21,
   "metadata": {},
   "outputs": [
    {
     "name": "stdout",
     "output_type": "stream",
     "text": [
      "+------------------+\n",
      "|Price_to_PSF_Ratio|\n",
      "+------------------+\n",
      "|            1091.0|\n",
      "|            1835.0|\n",
      "|            1769.0|\n",
      "|            1172.0|\n",
      "|            1305.0|\n",
      "+------------------+\n",
      "only showing top 5 rows\n",
      "\n"
     ]
    }
   ],
   "source": [
    "df.withColumn(col=F.round(df.Median_Price / df.Median_PSF), colName=\"Price_to_PSF_Ratio\").select('Price_to_PSF_Ratio').show(5)"
   ]
  },
  {
   "cell_type": "code",
   "execution_count": 10,
   "metadata": {},
   "outputs": [
    {
     "name": "stdout",
     "output_type": "stream",
     "text": [
      "+-----------+--------------+\n",
      "|Price_Range|property_count|\n",
      "+-----------+--------------+\n",
      "|        >1M|           124|\n",
      "|    500k-1M|           515|\n",
      "|      <500k|          1361|\n",
      "+-----------+--------------+\n",
      "\n"
     ]
    }
   ],
   "source": [
    "from pyspark.sql.functions import when, count\n",
    "df_with_category = df.withColumn(\n",
    "    \"Price_Range\",\n",
    "    when(df[\"Median_Price\"] < 500000, \"<500k\")\n",
    "    .when((df[\"Median_Price\"] >= 500000) & (df[\"Median_Price\"] <= 1000000), \"500k-1M\")\n",
    "    .otherwise(\">1M\")\n",
    ")\n",
    "result = df_with_category.select('Price_Range').groupBy('Price_Range').agg(F.count('Price_Range').alias(\"property_count\"))\n",
    "result.show()"
   ]
  },
  {
   "cell_type": "markdown",
   "metadata": {},
   "source": [
    "Insights by Property Type:\n",
    "\n",
    "- Compare the average Median_Price for Freehold vs. Leasehold properties by Type.\n",
    "- Find the Township with the highest number of Transactions for condominiums."
   ]
  },
  {
   "cell_type": "code",
   "execution_count": 23,
   "metadata": {},
   "outputs": [
    {
     "name": "stdout",
     "output_type": "stream",
     "text": [
      "+---------+--------------------+-----------+\n",
      "|   Tenure|                Type|avg_by_type|\n",
      "+---------+--------------------+-----------+\n",
      "| Freehold|Condominium, Serv...|    84000.0|\n",
      "| Freehold|                Flat|  149855.07|\n",
      "|Leasehold|                Flat|  163909.68|\n",
      "|Leasehold|     Apartment, Flat|   170000.0|\n",
      "|Leasehold|     Flat, Apartment|   192750.0|\n",
      "| Freehold|  Semi D, Town House|   200000.0|\n",
      "| Freehold|Cluster House, To...|   205000.0|\n",
      "| Freehold|Cluster House, Bu...|   240000.0|\n",
      "|Leasehold|           Apartment|  277900.64|\n",
      "| Freehold|           Apartment|  292200.85|\n",
      "|Leasehold|    Semi D, Bungalow|   294400.0|\n",
      "|Leasehold|Cluster House, Te...|   329000.0|\n",
      "|Leasehold|Terrace House, Cl...|  332622.75|\n",
      "| Freehold|Terrace House, Bu...|   335000.0|\n",
      "|Leasehold|   Flat, Condominium|   350000.0|\n",
      "|Leasehold|Semi D, Terrace H...|   350000.0|\n",
      "| Freehold|Semi D, Terrace H...|   350000.0|\n",
      "| Freehold|          Town House|   381500.0|\n",
      "|Leasehold|       Terrace House|   392742.4|\n",
      "|Leasehold|          Town House|   410000.0|\n",
      "+---------+--------------------+-----------+\n",
      "only showing top 20 rows\n",
      "\n"
     ]
    }
   ],
   "source": [
    "avg_by_Tenure = df.select('Tenure', 'Type', 'Median_Price') \\\n",
    ".filter(df.Tenure.isin(\"Freehold\", \"Leasehold\")) \\\n",
    ".groupBy('Tenure', 'Type') \\\n",
    ".agg(F.round(F.avg('Median_Price'), 2).alias(\"avg_by_type\"))  \\\n",
    ".orderBy('avg_by_type')\n",
    "avg_by_Tenure.show()"
   ]
  },
  {
   "cell_type": "code",
   "execution_count": 14,
   "metadata": {},
   "outputs": [
    {
     "name": "stdout",
     "output_type": "stream",
     "text": [
      "+--------------------+------------------+\n",
      "|            Township|Total_Transactions|\n",
      "+--------------------+------------------+\n",
      "|        Sri Putramas|                60|\n",
      "|Royal Domain Sri ...|                59|\n",
      "|Palm Spring @ Dam...|                57|\n",
      "|Angkasa Condominiums|                50|\n",
      "|    Medini Signature|                50|\n",
      "+--------------------+------------------+\n",
      "\n"
     ]
    }
   ],
   "source": [
    "# Find the Township with the highest number of Transactions for condominiums.\n",
    "df.select(\"Township\", \"Transactions\", \"Type\") \\\n",
    ".filter(df.Type.rlike('.*Condominium.*')).groupBy(\"Township\") \\\n",
    ".agg(F.sum('Transactions').alias('Total_Transactions')) \\\n",
    ".orderBy('Total_Transactions', ascending=False) \\\n",
    ".limit(5).show()"
   ]
  },
  {
   "cell_type": "markdown",
   "metadata": {},
   "source": [
    "- Determine the Area with the highest Median_PSF.\n",
    "- Identify the most popular Type of property in each Area."
   ]
  },
  {
   "cell_type": "code",
   "execution_count": 15,
   "metadata": {},
   "outputs": [
    {
     "name": "stdout",
     "output_type": "stream",
     "text": [
      "+-------------+-------+\n",
      "|         Area|avg_PSF|\n",
      "+-------------+-------+\n",
      "|   KL Sentral| 2264.0|\n",
      "|         KLCC| 1394.5|\n",
      "| Ampang Hilir| 1224.0|\n",
      "|Bukit Bintang| 1221.5|\n",
      "|Desa ParkCity| 976.75|\n",
      "+-------------+-------+\n",
      "\n"
     ]
    }
   ],
   "source": [
    "df.select('Area', 'Median_PSF').groupBy('Area').agg(F.avg('Median_PSF').alias(\"avg_PSF\")) \\\n",
    ".orderBy('avg_PSF', ascending=False) \\\n",
    ".limit(5).show()"
   ]
  },
  {
   "cell_type": "code",
   "execution_count": 16,
   "metadata": {},
   "outputs": [
    {
     "name": "stdout",
     "output_type": "stream",
     "text": [
      "+----------------+--------------------+------------------+\n",
      "|            Area|                Type|Total_Transactions|\n",
      "+----------------+--------------------+------------------+\n",
      "|      Alor Gajah|       Terrace House|                23|\n",
      "|      Alor Setar|              Semi D|                30|\n",
      "|          Ampang|                Flat|                97|\n",
      "|    Ampang Hilir|         Condominium|                11|\n",
      "|        Ampangan|       Terrace House|               111|\n",
      "|   Ara Damansara|         Condominium|                46|\n",
      "|            Arau|Semi D, Terrace H...|                29|\n",
      "|       Ayer Itam|                Flat|               262|\n",
      "|      Ayer Molek|       Terrace House|                37|\n",
      "|         Bachang|       Terrace House|                41|\n",
      "|     Bagan Serai|Terrace House, Se...|                19|\n",
      "|           Bahau|       Terrace House|               116|\n",
      "|           Bakri|       Terrace House|                32|\n",
      "|   Balai Panjang|       Terrace House|                60|\n",
      "|        Balakong|       Terrace House|                43|\n",
      "|     Balik Pulau|           Apartment|                12|\n",
      "|   Bandar Baharu|              Semi D|                10|\n",
      "|   Bandar Enstek|       Terrace House|                23|\n",
      "|  Bandar Kinrara|       Terrace House|               124|\n",
      "|Bandar Menjalara|       Terrace House|                18|\n",
      "+----------------+--------------------+------------------+\n",
      "only showing top 20 rows\n",
      "\n"
     ]
    }
   ],
   "source": [
    "from pyspark.sql.window import Window\n",
    "transactions_per_type_per_area = df.select('Type', 'Area', 'Transactions') \\\n",
    ".groupBy('Area', 'Type').agg(F.sum('Transactions').alias('Total_Transactions'))\n",
    "window = Window.partitionBy('Area').orderBy(F.desc('Total_Transactions'))\n",
    "ranked = transactions_per_type_per_area.withColumn('rank', F.row_number().over(window))\n",
    "most_popular = ranked.filter(ranked.rank == 1).drop('rank')\n",
    "most_popular.show()"
   ]
  },
  {
   "cell_type": "markdown",
   "metadata": {},
   "source": [
    "Rank Townships by Median Price within Each Area"
   ]
  },
  {
   "cell_type": "code",
   "execution_count": 17,
   "metadata": {},
   "outputs": [
    {
     "name": "stdout",
     "output_type": "stream",
     "text": [
      "+-------------+--------------------+--------------------+----+\n",
      "|         Area|            Township|Average_Median_Price|rank|\n",
      "+-------------+--------------------+--------------------+----+\n",
      "|   Alor Gajah| TAMAN KELEMAK UTAMA|            398760.0|   1|\n",
      "|   Alor Gajah|  TAMAN KASA HEIGHTS|            205000.0|   2|\n",
      "|   Alor Setar|       TAMAN PULASAN|            561200.0|   1|\n",
      "|   Alor Setar|  TAMAN CAHAYA SURIA|            311111.0|   2|\n",
      "|   Alor Setar|        TAMAN CASSIA|            300000.0|   3|\n",
      "|       Ampang|TAMAN PANDAN PERDANA|            722500.0|   1|\n",
      "|       Ampang|              M City|            530000.0|   2|\n",
      "|       Ampang|   TAMAN PANDAN JAYA|            530000.0|   3|\n",
      "| Ampang Hilir|            18 Madge|           3200728.0|   1|\n",
      "|     Ampangan|OSKAR RESIDENCE @...|            669000.0|   1|\n",
      "|     Ampangan|SEREMBAN FOREST H...|            637500.0|   2|\n",
      "|     Ampangan|ARDEN HILL @SEREM...|            614500.0|   3|\n",
      "|Ara Damansara|           Aragreens|           1672200.0|   1|\n",
      "|Ara Damansara|       ARA DAMANSARA|           1300000.0|   2|\n",
      "|Ara Damansara|             Maisson|            535000.0|   3|\n",
      "|         Arau|  TAMAN DESA SAUJANA|            414428.0|   1|\n",
      "|    Ayer Itam|       Tanjung Court|            310000.0|   1|\n",
      "|    Ayer Itam|Sri Impian Apartment|            278000.0|   2|\n",
      "|    Ayer Itam|      Taman Air Itam|            270000.0|   3|\n",
      "|   Ayer Molek| TAMAN MOLEK RESIDEN|            435800.0|   1|\n",
      "+-------------+--------------------+--------------------+----+\n",
      "only showing top 20 rows\n",
      "\n"
     ]
    }
   ],
   "source": [
    "grouped_price = df.select('Area', 'Township', 'Median_Price').groupBy('Area', 'Township') \\\n",
    ".agg(F.avg(\"Median_Price\").alias('Average_Median_Price'))\n",
    "window = Window.partitionBy('Area').orderBy(F.desc('Average_Median_Price'))\n",
    "ranked = grouped_price.withColumn('rank', F.row_number().over(window)).filter(col('rank') <= 3) # only check top 3 townships\n",
    "ranked.show()"
   ]
  }
 ],
 "metadata": {
  "kernelspec": {
   "display_name": "Python 3",
   "language": "python",
   "name": "python3"
  },
  "language_info": {
   "codemirror_mode": {
    "name": "ipython",
    "version": 3
   },
   "file_extension": ".py",
   "mimetype": "text/x-python",
   "name": "python",
   "nbconvert_exporter": "python",
   "pygments_lexer": "ipython3",
   "version": "3.10.11"
  }
 },
 "nbformat": 4,
 "nbformat_minor": 2
}
